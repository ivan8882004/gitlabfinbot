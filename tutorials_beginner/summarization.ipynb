{
 "cells": [
  {
   "cell_type": "code",
   "execution_count": 18,
   "metadata": {},
   "outputs": [],
   "source": [
    "from openai import OpenAI\n",
    "import os\n",
    "from textwrap import dedent"
   ]
  },
  {
   "cell_type": "code",
   "execution_count": 19,
   "metadata": {},
   "outputs": [
    {
     "name": "stdout",
     "output_type": "stream",
     "text": [
      "Summaries and title have been written to combined_summaries.txt\n",
      "Title: \"NVIDIA's Fiscal Year 2024: Remarkable Revenue Growth, Enhanced Profit Margins, and Strong Financial Health in a Competitive AI Landscape\"\n"
     ]
    }
   ],
   "source": [
    "client = OpenAI(api_key=\"\", base_url=\"https://api.openai.com:10443/v1\")\n",
    "\n",
    "work_dir = \"../report\"\n",
    "summaries = []\n",
    "\n",
    "# Read the content of each file in the specified directory and summarize them one by one\n",
    "for filename in os.listdir(work_dir):\n",
    "    file_path = os.path.join(work_dir, filename)\n",
    "    if os.path.isfile(file_path):\n",
    "        with open(file_path, 'r') as file:\n",
    "            file_content = file.read()\n",
    "        \n",
    "        # Use the OpenAI API to generate a summary of the content\n",
    "        completion = client.chat.completions.create(\n",
    "            model=\"gpt-4o-mini\",\n",
    "            messages=[\n",
    "                {\"role\": \"system\", \"content\": dedent(\n",
    "                    \"\"\"\n",
    "                    Role: Expert Investor\n",
    "                    Department: Finance\n",
    "                    Primary Responsibility: Summarization of Customized Financial Analysis Documents\n",
    "\n",
    "                    Role Description:\n",
    "                    As an Expert Investor within the finance domain, your expertise is harnessed to summarise Financial Analysis documents that cater to specific client requirements. This role demands a deep dive into financial statements and market data to unearth insights regarding a company's financial performance and stability. Engaging directly with clients to gather essential information and continuously refining the report with their feedback ensures the final product precisely meets their needs and expectations.\n",
    "\n",
    "                    Key Objectives:\n",
    "\n",
    "                    Analytical Precision: Employ meticulous analytical prowess to interpret financial data, identifying underlying trends and anomalies.\n",
    "                    Effective Communication: Simplify and effectively convey complex financial narratives, making them accessible and actionable to non-specialist audiences.\n",
    "                    Client Focus: Dynamically tailor reports in response to client feedback, ensuring the final analysis aligns with their strategic objectives.\n",
    "                    Adherence to Excellence: Maintain the highest standards of quality and integrity in report generation, following established benchmarks for analytical rigor.\n",
    "                    Performance Indicators:\n",
    "                    The efficacy of the Financial Analysis Summarization is measured by its utility in providing clear, actionable insights. This encompasses aiding corporate decision-making, pinpointing areas for operational enhancement, and offering a lucid evaluation of the company's financial health. Success is ultimately reflected in the report's contribution to informed investment decisions and strategic planning.\n",
    "\n",
    "                    Reply TERMINATE when everything is settled.\n",
    "                    \"\"\")},\n",
    "                {\"role\": \"user\", \"content\": f\"Summarize the following content. The length of the summary should be around 120 words:\\n\\n{file_content}\"},\n",
    "            ],\n",
    "        )\n",
    "\n",
    "        summary = completion.choices[0].message.content\n",
    "        summaries.append(f\"Summary for {filename}:\\n{summary}\\n\")\n",
    "\n",
    "# Combine all summaries into a single string\n",
    "combined_summaries = \"\\n\".join(summaries)\n",
    "\n",
    "# Write the combined summaries to a single text file\n",
    "output_file_path = \"combined_summaries.txt\"\n",
    "with open(output_file_path, 'w') as output_file:\n",
    "    output_file.write(combined_summaries)\n",
    "\n",
    "stock_symbol = 'NVDA'\n",
    "title_completion = client.chat.completions.create(\n",
    "    model=\"gpt-4o-mini\",\n",
    "    messages=[\n",
    "        {\"role\": \"system\", \"content\": \"You are a helpful expert investor.\"},\n",
    "        {\"role\": \"user\", \"content\": f\"Generate a title (about 20 words) for the following summary for the stock {stock_symbol}:\\n\\n{combined_summaries}\"},\n",
    "    ],\n",
    ")\n",
    "\n",
    "title = title_completion.choices[0].message.content\n",
    "\n",
    "with open(output_file_path, 'a') as output_file:\n",
    "    output_file.write(f\"\\nTitle: {title}\\n\")\n",
    "\n",
    "print(f\"Summaries and title have been written to {output_file_path}\")\n",
    "print(f\"Title: {title}\")"
   ]
  },
  {
   "cell_type": "code",
   "execution_count": 17,
   "metadata": {},
   "outputs": [
    {
     "data": {
      "text/plain": [
       "\"NVIDIA Corporation faces significant risks in three key areas: \\n\\n1. **Market Competition**: The rapid evolution of technology and increasing competition could adversely affect NVIDIA's market share and financial performance if it fails to innovate or adapt effectively.\\n\\n2. **Supply Chain Dependency**: Heavy reliance on third-party suppliers for manufacturing and assembly may disrupt product availability and quality, leading to potential mismatches in supply and demand.\\n\\n3. **Regulatory Challenges**: Stricter laws and export controls, particularly concerning AI technologies, may hinder operations, impact revenue, and create compliance-related costs, especially in international markets.\""
      ]
     },
     "execution_count": 17,
     "metadata": {},
     "output_type": "execute_result"
    }
   ],
   "source": [
    "completion.choices[0].message.content"
   ]
  }
 ],
 "metadata": {
  "kernelspec": {
   "display_name": "finrobot",
   "language": "python",
   "name": "python3"
  },
  "language_info": {
   "codemirror_mode": {
    "name": "ipython",
    "version": 3
   },
   "file_extension": ".py",
   "mimetype": "text/x-python",
   "name": "python",
   "nbconvert_exporter": "python",
   "pygments_lexer": "ipython3",
   "version": "3.10.14"
  }
 },
 "nbformat": 4,
 "nbformat_minor": 2
}
